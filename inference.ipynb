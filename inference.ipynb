{
  "nbformat": 4,
  "nbformat_minor": 0,
  "metadata": {
    "colab": {
      "name": "inference.ipynb",
      "provenance": [],
      "collapsed_sections": []
    },
    "kernelspec": {
      "name": "python3",
      "display_name": "Python 3"
    },
    "language_info": {
      "name": "python"
    },
    "accelerator": "GPU"
  },
  "cells": [
    {
      "cell_type": "markdown",
      "metadata": {
        "id": "AeAnOCbmxR6O"
      },
      "source": [
        "# Step 0: Use GPU and update cudnn to 8.1.0"
      ]
    },
    {
      "cell_type": "code",
      "metadata": {
        "colab": {
          "base_uri": "https://localhost:8080/"
        },
        "id": "a4JZWFBbw9aW",
        "outputId": "12f6e0d1-f3dd-4ba0-aa2f-88eb3205334e"
      },
      "source": [
        "from google_drive_downloader import GoogleDriveDownloader as gdd\n",
        "\n",
        "!pip install googledrivedownloader\n",
        "\n",
        "gdd.download_file_from_google_drive(\n",
        "    file_id='1BfjF8Vv6jJ626i5IUaul3-ZBM010-bxC',\n",
        "    dest_path='./libcudnn8_8.1.0.77-1+cuda11.2_amd64.deb'\n",
        ")\n",
        "\n",
        "!dpkg -i \"libcudnn8_8.1.0.77-1+cuda11.2_amd64.deb\"\n",
        "\n",
        "!ls -l /usr/lib/x86_64-linux-gnu/libcudnn.so.8*\n"
      ],
      "execution_count": null,
      "outputs": [
        {
          "output_type": "stream",
          "name": "stdout",
          "text": [
            "Requirement already satisfied: googledrivedownloader in /usr/local/lib/python3.7/dist-packages (0.4)\n",
            "Downloading 1BfjF8Vv6jJ626i5IUaul3-ZBM010-bxC into ./libcudnn8_8.1.0.77-1+cuda11.2_amd64.deb... Done.\n",
            "(Reading database ... 155222 files and directories currently installed.)\n",
            "Preparing to unpack libcudnn8_8.1.0.77-1+cuda11.2_amd64.deb ...\n",
            "Unpacking libcudnn8 (8.1.0.77-1+cuda11.2) over (8.0.5.39-1+cuda11.1) ...\n",
            "Setting up libcudnn8 (8.1.0.77-1+cuda11.2) ...\n",
            "Processing triggers for libc-bin (2.27-3ubuntu1.3) ...\n",
            "/sbin/ldconfig.real: /usr/local/lib/python3.7/dist-packages/ideep4py/lib/libmkldnn.so.0 is not a symbolic link\n",
            "\n",
            "lrwxrwxrwx 1 root root     17 Jan 24  2021 /usr/lib/x86_64-linux-gnu/libcudnn.so.8 -> libcudnn.so.8.1.0\n",
            "-rw-r--r-- 1 root root 158264 Jan 24  2021 /usr/lib/x86_64-linux-gnu/libcudnn.so.8.1.0\n"
          ]
        }
      ]
    },
    {
      "cell_type": "markdown",
      "metadata": {
        "id": "g3a1GYDfxXPg"
      },
      "source": [
        "# Step 1: Git clone your project"
      ]
    },
    {
      "cell_type": "code",
      "metadata": {
        "colab": {
          "base_uri": "https://localhost:8080/"
        },
        "id": "GZZ6178nxepS",
        "outputId": "ee16d0f0-f929-498a-8d43-06d35d5f2517"
      },
      "source": [
        "!git clone https://github.com/gyes00205/VRDL_HW2.git"
      ],
      "execution_count": null,
      "outputs": [
        {
          "output_type": "stream",
          "name": "stdout",
          "text": [
            "Cloning into 'VRDL_HW2'...\n",
            "remote: Enumerating objects: 14, done.\u001b[K\n",
            "remote: Counting objects: 100% (14/14), done.\u001b[K\n",
            "remote: Compressing objects: 100% (12/12), done.\u001b[K\n",
            "remote: Total 14 (delta 2), reused 12 (delta 0), pack-reused 0\u001b[K\n",
            "Unpacking objects: 100% (14/14), done.\n"
          ]
        }
      ]
    },
    {
      "cell_type": "markdown",
      "metadata": {
        "id": "ei5Vulxex8yP"
      },
      "source": [
        "# Step 2: Install your requirements"
      ]
    },
    {
      "cell_type": "code",
      "metadata": {
        "id": "lDZb9rBMx5j7"
      },
      "source": [
        "%cd VRDL_HW2\n",
        "\n",
        "# Git clone TF-object-dectection-API\n",
        "!git clone https://github.com/tensorflow/models.git\n",
        "\n",
        "%cd models/research/\n",
        "\n",
        "!protoc object_detection/protos/*.proto --python_out=.\n",
        "\n",
        "!cp object_detection/packages/tf2/setup.py ./\n",
        "\n",
        "!python -m pip install --use-deprecated=legacy-resolver ."
      ],
      "execution_count": null,
      "outputs": []
    },
    {
      "cell_type": "code",
      "metadata": {
        "colab": {
          "base_uri": "https://localhost:8080/"
        },
        "id": "hNyg4rB74IbL",
        "outputId": "7c9ef14b-6bca-4390-c64d-2801e153d8e0"
      },
      "source": [
        "import os\n",
        "import cv2\n",
        "import time\n",
        "from tqdm import tqdm\n",
        "os.environ['PYTHONPATH'] += ':/content/VRDL_HW2/models/research/:\\\n",
        "    /content/VRDL_HW2//models/research/slim'\n",
        "\n",
        "%cd ../..\n"
      ],
      "execution_count": null,
      "outputs": [
        {
          "output_type": "stream",
          "name": "stdout",
          "text": [
            "/content/VRDL_HW2\n"
          ]
        }
      ]
    },
    {
      "cell_type": "markdown",
      "metadata": {
        "id": "VAL1uA2s51vt"
      },
      "source": [
        "# Step 3: Wget testing data"
      ]
    },
    {
      "cell_type": "code",
      "metadata": {
        "colab": {
          "base_uri": "https://localhost:8080/"
        },
        "id": "m9Rd0uOg51Cb",
        "outputId": "4f110f57-a4a7-4a5a-b90a-2805e93309d1"
      },
      "source": [
        "# 1. Download the testing data\n",
        "\n",
        "gdd.download_file_from_google_drive(\n",
        "    file_id='1Fm-avdeNgzhPxhvia0iw9yZzcoOggy7I',\n",
        "    dest_path='./test.zip',\n",
        "    unzip=True\n",
        ")\n",
        "\n",
        "# 2. Read the image_name and put them into the list\n",
        "# You need to modify the path to fit your test_folder\n",
        "data_listdir = os.listdir(\"/content/VRDL_HW2/test\")\n"
      ],
      "execution_count": null,
      "outputs": [
        {
          "output_type": "stream",
          "name": "stdout",
          "text": [
            "Downloading 1Fm-avdeNgzhPxhvia0iw9yZzcoOggy7I into ./test.zip... Done.\n",
            "Unzipping...Done.\n"
          ]
        }
      ]
    },
    {
      "cell_type": "markdown",
      "metadata": {
        "id": "Kew_au2h6jDM"
      },
      "source": [
        "# Step 4: Run inference and bench mark"
      ]
    },
    {
      "cell_type": "code",
      "metadata": {
        "colab": {
          "base_uri": "https://localhost:8080/"
        },
        "id": "ExN45Vrp4nOP",
        "outputId": "afa42d18-615d-4ce0-8346-cfeea855af4f"
      },
      "source": [
        "import tensorflow as tf\n",
        "from object_detection.utils import label_map_util\n",
        "from object_detection.utils import visualization_utils as viz_utils\n",
        "\n",
        "gdd.download_file_from_google_drive(\n",
        "    file_id='1QjFedhxrj4p4lF6jpUYZYNLa0rcJ4Y5y',\n",
        "    dest_path='./efficientdet_d2_ckpt202.zip',\n",
        "    unzip=True\n",
        ")\n",
        "\n",
        "# 1. Load your model and weights\n",
        "label_map = '/content/VRDL_HW2/data/label_map.pbtxt'\n",
        "checkpoint = \"/content/VRDL_HW2/efficientdet_d2_ckpt202/saved_model\"\n",
        "\n",
        "# 2. Initialize the model\n",
        "model = tf.saved_model.load(checkpoint)\n"
      ],
      "execution_count": null,
      "outputs": [
        {
          "output_type": "stream",
          "name": "stdout",
          "text": [
            "Downloading 1QjFedhxrj4p4lF6jpUYZYNLa0rcJ4Y5y into ./efficientdet_d2_ckpt202.zip... Done.\n",
            "Unzipping...Done.\n"
          ]
        }
      ]
    },
    {
      "cell_type": "code",
      "metadata": {
        "colab": {
          "base_uri": "https://localhost:8080/"
        },
        "id": "yRV52I8q-FfJ",
        "outputId": "04a648bd-65d4-43c7-e8a7-c041bdfcaa42"
      },
      "source": [
        "# Test your inference time\n",
        "TEST_IMAGE_NUMBER = 100  # This number is fixed.\n",
        "test_img_list = []\n",
        "\n",
        "# Read image (Be careful with the image order)\n",
        "data_listdir.sort(key=lambda x: int(x[:-4]))\n",
        "for img_name in data_listdir[:TEST_IMAGE_NUMBER]:\n",
        "    img_path = os.path.join(\"/content/VRDL_HW2/test\", img_name)\n",
        "    img = cv2.imread(img_path)\n",
        "    img = cv2.cvtColor(img, cv2.COLOR_BGR2RGB)\n",
        "    input_tensor = tf.convert_to_tensor(img)\n",
        "    input_tensor = input_tensor[tf.newaxis, ...]\n",
        "    test_img_list.append(input_tensor)\n",
        "\n",
        "start_time = time.time()\n",
        "for img in tqdm(test_img_list):\n",
        "    # your model prediction\n",
        "    pred = model(img)\n",
        "\n",
        "end_time = time.time()\n",
        "print(\n",
        "    \"\\nInference time per image: \",\n",
        "    (end_time - start_time) / len(test_img_list)\n",
        ")\n",
        "\n",
        "# Remember to screenshot!\n"
      ],
      "execution_count": null,
      "outputs": [
        {
          "output_type": "stream",
          "name": "stderr",
          "text": [
            "100%|██████████| 100/100 [00:18<00:00,  5.29it/s]"
          ]
        },
        {
          "output_type": "stream",
          "name": "stdout",
          "text": [
            "\n",
            "Inference time per image:  0.18901926279067993\n"
          ]
        },
        {
          "output_type": "stream",
          "name": "stderr",
          "text": [
            "\n"
          ]
        }
      ]
    },
    {
      "cell_type": "markdown",
      "metadata": {
        "id": "kH4djM3XBH0l"
      },
      "source": [
        "# STEP 5: Generate answer.json for submission on Codalab\n",
        "The answer.json has the same format as [COCO dataset results](https://cocodataset.org/#format-results)"
      ]
    },
    {
      "cell_type": "code",
      "metadata": {
        "id": "8zx1vKIn_Cji"
      },
      "source": [
        "!python detect.py \\\n",
        "--saved_model_path=efficientdet_d2_ckpt202/ \\\n",
        "--test_path=test \\\n",
        "--output_path=output_image \\\n",
        "--min_score_thresh=0.0 \\\n",
        "--label_map=data/label_map.pbtxt\n"
      ],
      "execution_count": null,
      "outputs": []
    },
    {
      "cell_type": "code",
      "metadata": {
        "id": "YhFnJl8KBhBo"
      },
      "source": [
        ""
      ],
      "execution_count": null,
      "outputs": []
    }
  ]
}